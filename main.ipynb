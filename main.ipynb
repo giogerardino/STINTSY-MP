{
 "cells": [
  {
   "cell_type": "code",
   "execution_count": 1,
   "metadata": {},
   "outputs": [
    {
     "name": "stdout",
     "output_type": "stream",
     "text": [
      "    Area  Perimeter  Major_Axis_Length  Minor_Axis_Length  Convex_Area  \\\n",
      "0  56276    888.242           326.1485           220.2388        56831   \n",
      "1  76631   1068.146           417.1932           234.2289        77280   \n",
      "2  71623   1082.987           435.8328           211.0457        72663   \n",
      "3  66458    992.051           381.5638           222.5322        67118   \n",
      "4  66107    998.146           383.8883           220.4545        67117   \n",
      "\n",
      "   Equiv_Diameter  Eccentricity  Solidity  Extent  Roundness  Aspect_Ration  \\\n",
      "0        267.6805        0.7376    0.9902  0.7453     0.8963         1.4809   \n",
      "1        312.3614        0.8275    0.9916  0.7151     0.8440         1.7811   \n",
      "2        301.9822        0.8749    0.9857  0.7400     0.7674         2.0651   \n",
      "3        290.8899        0.8123    0.9902  0.7396     0.8486         1.7146   \n",
      "4        290.1207        0.8187    0.9850  0.6752     0.8338         1.7413   \n",
      "\n",
      "   Compactness       Class  \n",
      "0       0.8207  erevelik  \n",
      "1       0.7487  erevelik  \n",
      "2       0.6929  erevelik  \n",
      "3       0.7624  erevelik  \n",
      "4       0.7557  erevelik  \n"
     ]
    }
   ],
   "source": [
    "import pandas as pd \n",
    "\n",
    "df = pd.read_csv('pumpkin_seeds.csv', encoding='latin1')\n",
    "print(df.head())\n"
   ]
  },
  {
   "cell_type": "markdown",
   "metadata": {},
   "source": [
    "Change the class names to its appropriate name. This error occured due to the different characters that csv read. "
   ]
  },
  {
   "cell_type": "code",
   "execution_count": 6,
   "metadata": {},
   "outputs": [
    {
     "name": "stdout",
     "output_type": "stream",
     "text": [
      "['Cercevelik' 'Urgup Sivrisi']\n"
     ]
    }
   ],
   "source": [
    "unique_class_values = df['Class'].unique()\n",
    "\n",
    "class_mapping = {\n",
    "    unique_class_values[0]: 'Cercevelik',\n",
    "    unique_class_values[1]: 'Urgup Sivrisi'\n",
    "}\n",
    "\n",
    "# Apply the mapping to the 'Class' column\n",
    "df['Class'] = df['Class'].map(class_mapping)\n",
    "\n",
    "# Verify the changes\n",
    "print(df['Class'].unique())"
   ]
  },
  {
   "cell_type": "code",
   "execution_count": 7,
   "metadata": {},
   "outputs": [
    {
     "name": "stdout",
     "output_type": "stream",
     "text": [
      "    Area  Perimeter  Major_Axis_Length  Minor_Axis_Length  Convex_Area  \\\n",
      "0  56276    888.242           326.1485           220.2388        56831   \n",
      "1  76631   1068.146           417.1932           234.2289        77280   \n",
      "2  71623   1082.987           435.8328           211.0457        72663   \n",
      "3  66458    992.051           381.5638           222.5322        67118   \n",
      "4  66107    998.146           383.8883           220.4545        67117   \n",
      "\n",
      "   Equiv_Diameter  Eccentricity  Solidity  Extent  Roundness  Aspect_Ration  \\\n",
      "0        267.6805        0.7376    0.9902  0.7453     0.8963         1.4809   \n",
      "1        312.3614        0.8275    0.9916  0.7151     0.8440         1.7811   \n",
      "2        301.9822        0.8749    0.9857  0.7400     0.7674         2.0651   \n",
      "3        290.8899        0.8123    0.9902  0.7396     0.8486         1.7146   \n",
      "4        290.1207        0.8187    0.9850  0.6752     0.8338         1.7413   \n",
      "\n",
      "   Compactness       Class  \n",
      "0       0.8207  Cercevelik  \n",
      "1       0.7487  Cercevelik  \n",
      "2       0.6929  Cercevelik  \n",
      "3       0.7624  Cercevelik  \n",
      "4       0.7557  Cercevelik  \n"
     ]
    }
   ],
   "source": [
    "print(df.head())"
   ]
  },
  {
   "cell_type": "code",
   "execution_count": null,
   "metadata": {},
   "outputs": [],
   "source": []
  }
 ],
 "metadata": {
  "kernelspec": {
   "display_name": "Python 3",
   "language": "python",
   "name": "python3"
  },
  "language_info": {
   "codemirror_mode": {
    "name": "ipython",
    "version": 3
   },
   "file_extension": ".py",
   "mimetype": "text/x-python",
   "name": "python",
   "nbconvert_exporter": "python",
   "pygments_lexer": "ipython3",
   "version": "3.12.0"
  }
 },
 "nbformat": 4,
 "nbformat_minor": 2
}
